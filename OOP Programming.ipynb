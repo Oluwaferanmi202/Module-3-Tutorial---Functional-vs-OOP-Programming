{
 "cells": [
  {
   "cell_type": "code",
   "execution_count": 11,
   "id": "0c316f45-7ae2-4ad0-8294-fc11944e56b4",
   "metadata": {},
   "outputs": [
    {
     "name": "stdout",
     "output_type": "stream",
     "text": [
      "Original array 1: [0, 1, 2, 0, 1, 2]\n",
      "Sorted array 1: [0, 0, 1, 1, 2, 2]\n",
      "Original array 2: [0, 1, 1, 0, 1, 2, 1, 2, 0, 0, 0, 1]\n",
      "Sorted array 2: [0, 0, 0, 0, 0, 1, 1, 1, 1, 1, 2, 2]\n"
     ]
    }
   ],
   "source": [
    "#OOP Programming:\n",
    "def sort012(arr):\n",
    "    low, mid, high = 0, 0, len(arr) - 1\n",
    "    \n",
    "    while mid <= high:\n",
    "        if arr[mid] == 0:\n",
    "            # Swap arr[low] and arr[mid]\n",
    "            arr[low], arr[mid] = arr[mid], arr[low]\n",
    "            low += 1\n",
    "            mid += 1\n",
    "        elif arr[mid] == 1:\n",
    "            # Simply move to the next element\n",
    "            mid += 1\n",
    "        else:  # arr[mid] == 2\n",
    "            # Swap arr[mid] and arr[high]\n",
    "            arr[mid], arr[high] = arr[high], arr[mid]\n",
    "            high -= 1\n",
    "\n",
    "# Test the function\n",
    "if __name__ == \"__main__\":\n",
    "    arr1 = [0, 1, 2, 0, 1, 2]\n",
    "    arr2 = [0, 1, 1, 0, 1, 2, 1, 2, 0, 0, 0, 1]\n",
    "\n",
    "    print(\"Original array 1:\", arr1)\n",
    "    sort012(arr1)\n",
    "    print(\"Sorted array 1:\", arr1)\n",
    "\n",
    "    print(\"Original array 2:\", arr2)\n",
    "    sort012(arr2)\n",
    "    print(\"Sorted array 2:\", arr2)\n"
   ]
  }
 ],
 "metadata": {
  "kernelspec": {
   "display_name": "Python 3 (ipykernel)",
   "language": "python",
   "name": "python3"
  },
  "language_info": {
   "codemirror_mode": {
    "name": "ipython",
    "version": 3
   },
   "file_extension": ".py",
   "mimetype": "text/x-python",
   "name": "python",
   "nbconvert_exporter": "python",
   "pygments_lexer": "ipython3",
   "version": "3.12.7"
  }
 },
 "nbformat": 4,
 "nbformat_minor": 5
}
