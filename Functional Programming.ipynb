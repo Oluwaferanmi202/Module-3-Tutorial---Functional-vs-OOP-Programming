{
 "cells": [
  {
   "cell_type": "code",
   "execution_count": 1,
   "id": "7b386dc2-c969-4302-92f8-9ebfe8d59c6c",
   "metadata": {},
   "outputs": [
    {
     "name": "stdout",
     "output_type": "stream",
     "text": [
      "3\n",
      "-1\n",
      "0\n"
     ]
    }
   ],
   "source": [
    "#Functional Programming\n",
    "def find_first_occurrence(arr, k):\n",
    "    low, high = 0, len(arr) - 1\n",
    "    result = -1\n",
    "\n",
    "    while low <= high:\n",
    "        mid = (low + high) // 2\n",
    "\n",
    "        if arr[mid] == k:\n",
    "            result = mid  # We found k, but we need to check for earlier occurrences\n",
    "            high = mid - 1  # Continue to search in the left half to find the first occurrence\n",
    "        elif arr[mid] < k:\n",
    "            low = mid + 1\n",
    "        else:\n",
    "            high = mid - 1\n",
    "\n",
    "    return result\n",
    "\n",
    "# Example usage\n",
    "arr1 = [1, 2, 3, 4, 5]\n",
    "k1 = 4\n",
    "print(find_first_occurrence(arr1, k1))  # Output: 3\n",
    "\n",
    "arr2 = [11, 22, 33, 44, 55]\n",
    "k2 = 445\n",
    "print(find_first_occurrence(arr2, k2))  # Output: -1\n",
    "\n",
    "arr3 = [1, 1, 1, 1, 2]\n",
    "k3 = 1\n",
    "print(find_first_occurrence(arr3, k3))  # Output: 0\n"
   ]
  }
 ],
 "metadata": {
  "kernelspec": {
   "display_name": "Python 3 (ipykernel)",
   "language": "python",
   "name": "python3"
  },
  "language_info": {
   "codemirror_mode": {
    "name": "ipython",
    "version": 3
   },
   "file_extension": ".py",
   "mimetype": "text/x-python",
   "name": "python",
   "nbconvert_exporter": "python",
   "pygments_lexer": "ipython3",
   "version": "3.12.7"
  }
 },
 "nbformat": 4,
 "nbformat_minor": 5
}
